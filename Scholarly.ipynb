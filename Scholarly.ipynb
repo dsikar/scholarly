{
 "cells": [
  {
   "cell_type": "markdown",
   "metadata": {},
   "source": [
    "# Scholarly\n",
    "Using Scholarly for literature search"
   ]
  },
  {
   "cell_type": "code",
   "execution_count": 9,
   "metadata": {},
   "outputs": [
    {
     "ename": "KeyError",
     "evalue": "'data-href'",
     "output_type": "error",
     "traceback": [
      "\u001b[0;31m---------------------------------------------------------------------------\u001b[0m",
      "\u001b[0;31mKeyError\u001b[0m                                  Traceback (most recent call last)",
      "\u001b[0;32m<ipython-input-9-5ab12dcd5400>\u001b[0m in \u001b[0;36m<module>\u001b[0;34m\u001b[0m\n\u001b[1;32m      5\u001b[0m \u001b[0;31m# Retrieve the author's data, fill-in, and print\u001b[0m\u001b[0;34m\u001b[0m\u001b[0;34m\u001b[0m\u001b[0;34m\u001b[0m\u001b[0m\n\u001b[1;32m      6\u001b[0m \u001b[0msearch_query\u001b[0m \u001b[0;34m=\u001b[0m \u001b[0mscholarly\u001b[0m\u001b[0;34m.\u001b[0m\u001b[0msearch_author\u001b[0m\u001b[0;34m(\u001b[0m\u001b[0;34m'Steven A Cholewiak'\u001b[0m\u001b[0;34m)\u001b[0m\u001b[0;34m\u001b[0m\u001b[0;34m\u001b[0m\u001b[0m\n\u001b[0;32m----> 7\u001b[0;31m \u001b[0mauthor\u001b[0m \u001b[0;34m=\u001b[0m \u001b[0mscholarly\u001b[0m\u001b[0;34m.\u001b[0m\u001b[0mfill\u001b[0m\u001b[0;34m(\u001b[0m\u001b[0mnext\u001b[0m\u001b[0;34m(\u001b[0m\u001b[0msearch_query\u001b[0m\u001b[0;34m)\u001b[0m\u001b[0;34m)\u001b[0m\u001b[0;34m\u001b[0m\u001b[0;34m\u001b[0m\u001b[0m\n\u001b[0m\u001b[1;32m      8\u001b[0m \u001b[0mprint\u001b[0m\u001b[0;34m(\u001b[0m\u001b[0mauthor\u001b[0m\u001b[0;34m)\u001b[0m\u001b[0;34m\u001b[0m\u001b[0;34m\u001b[0m\u001b[0m\n",
      "\u001b[0;32m/home/daniel/snap/jupyter/common/lib/python3.7/site-packages/scholarly/_scholarly.py\u001b[0m in \u001b[0;36mfill\u001b[0;34m(self, object, sections, sortby, publication_limit)\u001b[0m\n",
      "\u001b[0;32m/home/daniel/snap/jupyter/common/lib/python3.7/site-packages/scholarly/author_parser.py\u001b[0m in \u001b[0;36mfill\u001b[0;34m(self, author, sections, sortby, publication_limit)\u001b[0m\n",
      "\u001b[0;32m/home/daniel/snap/jupyter/common/lib/python3.7/site-packages/scholarly/author_parser.py\u001b[0m in \u001b[0;36mfill\u001b[0;34m(self, author, sections, sortby, publication_limit)\u001b[0m\n",
      "\u001b[0;32m/home/daniel/snap/jupyter/common/lib/python3.7/site-packages/scholarly/author_parser.py\u001b[0m in \u001b[0;36m_fill_publications\u001b[0;34m(self, soup, author, publication_limit, sortby_str)\u001b[0m\n",
      "\u001b[0;32m/home/daniel/snap/jupyter/common/lib/python3.7/site-packages/scholarly/publication_parser.py\u001b[0m in \u001b[0;36mget_publication\u001b[0;34m(self, _PublicationParser__data, pubtype)\u001b[0m\n",
      "\u001b[0;32m/home/daniel/snap/jupyter/common/lib/python3.7/site-packages/scholarly/publication_parser.py\u001b[0m in \u001b[0;36m_citation_pub\u001b[0;34m(self, _PublicationParser__data, publication)\u001b[0m\n",
      "\u001b[0;32m/home/daniel/snap/jupyter/common/lib/python3.7/site-packages/bs4/element.py\u001b[0m in \u001b[0;36m__getitem__\u001b[0;34m(self, key)\u001b[0m\n\u001b[1;32m   1404\u001b[0m         \"\"\"tag[key] returns the value of the 'key' attribute for the Tag,\n\u001b[1;32m   1405\u001b[0m         and throws an exception if it's not there.\"\"\"\n\u001b[0;32m-> 1406\u001b[0;31m         \u001b[0;32mreturn\u001b[0m \u001b[0mself\u001b[0m\u001b[0;34m.\u001b[0m\u001b[0mattrs\u001b[0m\u001b[0;34m[\u001b[0m\u001b[0mkey\u001b[0m\u001b[0;34m]\u001b[0m\u001b[0;34m\u001b[0m\u001b[0;34m\u001b[0m\u001b[0m\n\u001b[0m\u001b[1;32m   1407\u001b[0m \u001b[0;34m\u001b[0m\u001b[0m\n\u001b[1;32m   1408\u001b[0m     \u001b[0;32mdef\u001b[0m \u001b[0m__iter__\u001b[0m\u001b[0;34m(\u001b[0m\u001b[0mself\u001b[0m\u001b[0;34m)\u001b[0m\u001b[0;34m:\u001b[0m\u001b[0;34m\u001b[0m\u001b[0;34m\u001b[0m\u001b[0m\n",
      "\u001b[0;31mKeyError\u001b[0m: 'data-href'"
     ]
    }
   ],
   "source": [
    "# Getting to grips with scholarly\n",
    "# Started at https://scholarly.readthedocs.io/en/stable/quickstart.html\n",
    "from scholarly import scholarly\n",
    "\n",
    "# Retrieve the author's data, fill-in, and print\n",
    "search_query = scholarly.search_author('Steven A Cholewiak')\n",
    "author = scholarly.fill(next(search_query))\n",
    "print(author)"
   ]
  },
  {
   "cell_type": "code",
   "execution_count": 10,
   "metadata": {},
   "outputs": [
    {
     "name": "stdout",
     "output_type": "stream",
     "text": [
      "Collecting git+https://github.com/scholarly-python-package/scholarly.git\r\n",
      "  Cloning https://github.com/scholarly-python-package/scholarly.git to /tmp/pip-req-build-cf7bbunu\r\n",
      "  Running command git clone -q https://github.com/scholarly-python-package/scholarly.git /tmp/pip-req-build-cf7bbunu\r\n",
      "\u001b[31m  ERROR: Error [Errno 2] No such file or directory: 'git': 'git' while executing command git clone -q https://github.com/scholarly-python-package/scholarly.git /tmp/pip-req-build-cf7bbunu\u001b[0m\r\n",
      "\u001b[31mERROR: Cannot find command 'git' - do you have 'git' installed and in your PATH?\u001b[0m\r\n"
     ]
    }
   ],
   "source": [
    "# !pip uninstall scholarly -y\n",
    "!pip install -U git+https://github.com/scholarly-python-package/scholarly.git"
   ]
  },
  {
   "cell_type": "code",
   "execution_count": 14,
   "metadata": {},
   "outputs": [
    {
     "name": "stdout",
     "output_type": "stream",
     "text": [
      "Data: container_type, datatype: <class 'str'>\n",
      "Data: filled, datatype: <class 'str'>\n",
      "Data: source, datatype: <class 'str'>\n",
      "Data: scholar_id, datatype: <class 'str'>\n",
      "Data: url_picture, datatype: <class 'str'>\n",
      "Data: name, datatype: <class 'str'>\n",
      "Data: affiliation, datatype: <class 'str'>\n",
      "Data: email_domain, datatype: <class 'str'>\n",
      "Data: interests, datatype: <class 'str'>\n",
      "Data: citedby, datatype: <class 'str'>\n",
      "Data: citedby5y, datatype: <class 'str'>\n",
      "Data: hindex, datatype: <class 'str'>\n",
      "Data: hindex5y, datatype: <class 'str'>\n",
      "Data: i10index, datatype: <class 'str'>\n",
      "Data: i10index5y, datatype: <class 'str'>\n",
      "Data: coauthors, datatype: <class 'str'>\n",
      "Data: publications, datatype: <class 'str'>\n",
      "Data: cites_per_year, datatype: <class 'str'>\n"
     ]
    }
   ],
   "source": [
    "# print(type(author))\n",
    "for data in author:\n",
    "    print(\"Data: {}, datatype: {}\".format(data, type(data)))"
   ]
  },
  {
   "cell_type": "code",
   "execution_count": 18,
   "metadata": {},
   "outputs": [
    {
     "name": "stdout",
     "output_type": "stream",
     "text": [
      "Steven A. Cholewiak, PhD\n"
     ]
    }
   ],
   "source": [
    "print(author['name'])"
   ]
  },
  {
   "cell_type": "code",
   "execution_count": 20,
   "metadata": {},
   "outputs": [
    {
     "name": "stdout",
     "output_type": "stream",
     "text": [
      "{'author_id': ['3C__4wsAAAAJ',\n",
      "               '8R0hla4AAAAJ',\n",
      "               'ZmlCcesAAAAJ',\n",
      "               '',\n",
      "               'Rx5swD4AAAAJ'],\n",
      " 'bib': {'abstract': 'To address the sparsity and cold start problem of '\n",
      "                     'collaborative filtering, researchers usually make use of '\n",
      "                     'side information, such as social networks or item '\n",
      "                     'attributes, to improve recommendation performance. This '\n",
      "                     'paper considers the knowledge graph as the source of '\n",
      "                     'side information. To address the limitations of existing '\n",
      "                     'embedding-based and path-based methods for '\n",
      "                     'knowledge-graph-aware recommendation, we propose '\n",
      "                     'RippleNet, an end-to-end framework that naturally '\n",
      "                     'incorporates the knowledge graph into recommender '\n",
      "                     'systems',\n",
      "         'author': ['H Wang', 'F Zhang', 'J Wang', 'M Zhao', 'W Li'],\n",
      "         'pub_year': '2018',\n",
      "         'title': 'Ripplenet: Propagating user preferences on the knowledge '\n",
      "                  'graph for recommender systems',\n",
      "         'venue': 'Proceedings of the 27th …'},\n",
      " 'citedby_url': '/scholar?cites=7771159719135241374&as_sdt=5,33&sciodt=0,33&hl=en',\n",
      " 'eprint_url': 'https://arxiv.org/pdf/1803.03467',\n",
      " 'filled': False,\n",
      " 'gsrank': 1,\n",
      " 'num_citations': 198,\n",
      " 'pub_url': 'https://dl.acm.org/doi/abs/10.1145/3269206.3271739',\n",
      " 'source': 'PUBLICATION_SEARCH_SNIPPET',\n",
      " 'url_add_sclib': '/citations?hl=en&xsrf=&continue=/scholar%3Fq%3DRipplenet:%2BPropagating%2Buser%2Bpreferences%2Bon%2Bthe%2Bknowledge%2Bgraph%2Bfor%2Brecommender%2Bsystems%26hl%3Den%26as_sdt%3D0,33&citilm=1&json=&update_op=library_add&info=nmThV5e02GsJ&ei=a25YYN2HMZD_mAGb8ojQBg',\n",
      " 'url_related_articles': '/scholar?q=related:nmThV5e02GsJ:scholar.google.com/&scioq=Ripplenet:+Propagating+user+preferences+on+the+knowledge+graph+for+recommender+systems&hl=en&as_sdt=0,33',\n",
      " 'url_scholarbib': '/scholar?q=info:nmThV5e02GsJ:scholar.google.com/&output=cite&scirp=0&hl=en'}\n",
      "None\n"
     ]
    }
   ],
   "source": [
    "# Search by article title\n",
    "# Ripplenet: Propagating user preferences on the knowledge graph for recommender systems\n",
    "# https://scholarly.readthedocs.io/en/stable/quickstart.html#search-for-articles-publications-and-return-generator-of-publication-objects\n",
    "search_query = scholarly.search_pubs('Ripplenet: Propagating user preferences on the knowledge graph for recommender systems')\n",
    "results = scholarly.pprint(next(search_query))\n",
    "print(results)"
   ]
  },
  {
   "cell_type": "code",
   "execution_count": 23,
   "metadata": {
    "collapsed": true
   },
   "outputs": [
    {
     "name": "stdout",
     "output_type": "stream",
     "text": [
      "Requirement already satisfied: semanticscholar in /home/daniel/snap/jupyter/common/lib/python3.7/site-packages (0.1.6)\n",
      "Requirement already satisfied: requests in /home/daniel/snap/jupyter/common/lib/python3.7/site-packages (from semanticscholar) (2.25.1)\n",
      "Requirement already satisfied: tenacity in /home/daniel/snap/jupyter/common/lib/python3.7/site-packages (from semanticscholar) (7.0.0)\n",
      "Requirement already satisfied: certifi>=2017.4.17 in /snap/jupyter/6/lib/python3.7/site-packages (from requests->semanticscholar) (2019.3.9)\n",
      "Requirement already satisfied: idna<3,>=2.5 in /home/daniel/snap/jupyter/common/lib/python3.7/site-packages (from requests->semanticscholar) (2.10)\n",
      "Requirement already satisfied: chardet<5,>=3.0.2 in /home/daniel/snap/jupyter/common/lib/python3.7/site-packages (from requests->semanticscholar) (4.0.0)\n",
      "Requirement already satisfied: urllib3<1.27,>=1.21.1 in /home/daniel/snap/jupyter/common/lib/python3.7/site-packages (from requests->semanticscholar) (1.26.3)\n",
      "Requirement already satisfied: six>=1.9.0 in /home/daniel/snap/jupyter/common/lib/python3.7/site-packages (from tenacity->semanticscholar) (1.15.0)\n"
     ]
    }
   ],
   "source": [
    "# Another approach\n",
    "# https://api.semanticscholar.org/\n",
    "!pip install semanticscholar"
   ]
  },
  {
   "cell_type": "code",
   "execution_count": 25,
   "metadata": {},
   "outputs": [],
   "source": [
    "import semanticscholar as sch\n",
    "author = sch.author(49527724, timeout=2) # semantic scholar 3C__4wsAAAAJ equivalent "
   ]
  },
  {
   "cell_type": "code",
   "execution_count": 29,
   "metadata": {},
   "outputs": [
    {
     "name": "stdout",
     "output_type": "stream",
     "text": [
      "Key: aliases, datatype: <class 'str'>\n",
      "Key: authorId, datatype: <class 'str'>\n",
      "Key: influentialCitationCount, datatype: <class 'str'>\n",
      "Key: name, datatype: <class 'str'>\n",
      "Key: papers, datatype: <class 'str'>\n",
      "Key: url, datatype: <class 'str'>\n"
     ]
    }
   ],
   "source": [
    "for key in author:\n",
    "    print(\"Key: {}, datatype: {}\".format(key, type(key)))"
   ]
  },
  {
   "cell_type": "code",
   "execution_count": 34,
   "metadata": {},
   "outputs": [
    {
     "name": "stdout",
     "output_type": "stream",
     "text": [
      "2018 GraphGAN: Graph Representation Learning with Generative Adversarial Nets\n",
      "2018 DKN: Deep Knowledge-Aware Network for News Recommendation\n",
      "2018 RippleNet: Propagating User Preferences on the Knowledge Graph for Recommender Systems\n",
      "2019 Knowledge Graph Convolutional Networks for Recommender Systems\n",
      "2018 SHINE: Signed Heterogeneous Information Network Embedding for Sentiment Link Prediction\n",
      "2019 Multi-Task Feature Learning for Knowledge Graph Enhanced Recommendation\n",
      "2019 AdaShift: Decorrelation and Convergence of Adaptive Learning Rate Methods\n",
      "2019 Lipschitz Generative Adversarial Nets\n",
      "2020 Entity Context and Relational Paths for Knowledge Graph Completion\n",
      "2016 Towards Scalable and Reliable In-Memory Storage System: A Case Study with Redis\n",
      "2017 MELODY: A Long-Term Dynamic Quality-Aware Incentive Mechanism for Crowdsourcing\n",
      "2019 Knowledge Graph Convolutional Networks for Recommender Systems with Label Smoothness Regularization\n",
      "2020 Learning Graph Representation with Generative Adversarial Nets\n",
      "2018 Deep Representation-Decoupling Neural Networks for Monaural Music Mixture Separation\n",
      "2019 Exploring High-Order User Preference on the Knowledge Graph for Recommender Systems\n",
      "2017 Joint Topic-Semantic-aware Social Recommendation for Online Voting\n",
      "2019 Modeling Local Dependence in Natural Language with Multi-channel Recurrent Neural Networks\n",
      "2020 Unifying Graph Convolutional Neural Networks and Label Propagation\n",
      "2018 Understanding the Effectiveness of Lipschitz-Continuity in Generative Adversarial Nets\n",
      "2019 Sparsely Self-Supervised Generative Adversarial Nets for Radio Frequency Estimation\n",
      "2017 Collaborative Filtering-Based Recommendation of Online Social Voting\n",
      "2020 Visual-Texual Emotion Analysis With Deep Coupled Video and Danmu Neural Networks\n",
      "2018 MeLoDy: A Long-Term Dynamic Quality-Aware Incentive Mechanism for Crowdsourcing\n",
      "2020 Distance Encoding – Design Provably More Powerful GNNs for Structural Representation Learning\n",
      "2018 Weakly-Supervised Generative Adversarial Nets with Auxiliary Information for Wireless Coverage Estimation\n",
      "2017 Practical Lessons for Job Recommendations in the Cold-Start Scenario\n"
     ]
    }
   ],
   "source": [
    "# print papers\n",
    "# print(type(author['papers']))\n",
    "for data in author['papers']:\n",
    "    # print(\"Data: {}, datatype: {}\".format(data, type(data)))\n",
    "    print(data['year'], data['title'])"
   ]
  },
  {
   "cell_type": "code",
   "execution_count": 37,
   "metadata": {},
   "outputs": [
    {
     "data": {
      "text/plain": [
       "26"
      ]
     },
     "execution_count": 37,
     "metadata": {},
     "output_type": "execute_result"
    }
   ],
   "source": [
    "print(len(author['papers']))"
   ]
  },
  {
   "cell_type": "markdown",
   "metadata": {},
   "source": [
    "# Using semantic scholar for SAFECOMP Word Clouds\n",
    "## Method\n",
    "We run a query, store the output in a json object, save title and abstract, then create the point clouds of each field."
   ]
  },
  {
   "cell_type": "code",
   "execution_count": 34,
   "metadata": {},
   "outputs": [
    {
     "name": "stdout",
     "output_type": "stream",
     "text": [
      "{'author_id': ['', '-F-KArEAAAAJ'],\n",
      " 'bib': {'abstract': 'This volume contains the papers presented at ASCoMS '\n",
      "                     '2014: the 3rd Workshop on Architecting Safety in '\n",
      "                     'Collaborative Mobile Systems held on September 8, 2014 '\n",
      "                     'in Firenze as part of SAFECOMP Conference 2014. As for '\n",
      "                     'the two previous years the workshop was held at '\n",
      "                     'SAFECOMP.',\n",
      "         'author': ['R Librino', 'M Törngren'],\n",
      "         'pub_year': '2014',\n",
      "         'title': '3rd Workshop on Architecting Safety in Collaborative Mobile '\n",
      "                  'Systems (ASCoMS)',\n",
      "         'venue': '… Conference on Computer Safety, Reliability, and …'},\n",
      " 'filled': False,\n",
      " 'gsrank': 1,\n",
      " 'num_citations': 0,\n",
      " 'pub_url': 'https://link.springer.com/chapter/10.1007/978-3-319-10557-4_1',\n",
      " 'source': 'PUBLICATION_SEARCH_SNIPPET',\n",
      " 'url_add_sclib': '/citations?hl=en&xsrf=&continue=/scholar%3Fq%3D3rd%2BWorkshop%2Bon%2BArchitecting%2BSafety%2Bin%2BCollaborative%2BMobile%2BSystems%2B(ASCoMS)%26hl%3Den%26as_sdt%3D0,33&citilm=1&json=&update_op=library_add&info=xI_sX8QTeYsJ&ei=zfvqYNalFeeHy9YP57CWGA',\n",
      " 'url_scholarbib': '/scholar?q=info:xI_sX8QTeYsJ:scholar.google.com/&output=cite&scirp=0&hl=en'}\n"
     ]
    }
   ],
   "source": [
    "from scholarly import scholarly\n",
    "search_query = scholarly.search_pubs('3rd Workshop on Architecting Safety in Collaborative Mobile Systems (ASCoMS)')\n",
    "# myjson = scholarly.pprint(next(search_query))\n",
    "# res = next(search_query)\n",
    "scholarly.pprint(next(search_query))"
   ]
  },
  {
   "cell_type": "code",
   "execution_count": 33,
   "metadata": {},
   "outputs": [
    {
     "name": "stdout",
     "output_type": "stream",
     "text": [
      "<class 'dict'>\n",
      "container_type\n",
      "source\n",
      "bib\n",
      "filled\n",
      "gsrank\n",
      "pub_url\n",
      "author_id\n",
      "num_citations\n",
      "url_scholarbib\n",
      "url_add_sclib\n"
     ]
    }
   ],
   "source": [
    "import json\n",
    "print(type(res))\n",
    "for key in res :\n",
    "    print(key)\n"
   ]
  },
  {
   "cell_type": "code",
   "execution_count": 36,
   "metadata": {},
   "outputs": [
    {
     "name": "stdout",
     "output_type": "stream",
     "text": [
      "<class 'dict'>\n"
     ]
    }
   ],
   "source": [
    "print(type(res['bib']))"
   ]
  },
  {
   "cell_type": "code",
   "execution_count": 41,
   "metadata": {},
   "outputs": [
    {
     "name": "stdout",
     "output_type": "stream",
     "text": [
      "3rd Workshop on Architecting Safety in Collaborative Mobile Systems (ASCoMS)\n",
      "This volume contains the papers presented at ASCoMS 2014: the 3rd Workshop on Architecting Safety in Collaborative Mobile Systems held on September 8, 2014 in Firenze as part of SAFECOMP Conference 2014. As for the two previous years the workshop was held at SAFECOMP.\n"
     ]
    }
   ],
   "source": [
    "print(res['bib']['title'])\n",
    "print(res['bib']['abstract'])"
   ]
  },
  {
   "cell_type": "code",
   "execution_count": 42,
   "metadata": {},
   "outputs": [
    {
     "name": "stdout",
     "output_type": "stream",
     "text": [
      "{'author_id': ['rRB5ge4AAAAJ', 'at4lYagAAAAJ', 'ef7RYPwAAAAJ'],\n",
      " 'bib': {'abstract': 'Summarizing, we have to say that the correspondence and '\n",
      "                     'organization of these 6 workshops for SAFECOMP  hope '\n",
      "                     'readers and attendees share our opinion that this will '\n",
      "                     'be a great extension to SAFECOMP 2014. July 2014 Andrea '\n",
      "                     'Bondavalli Andrea Ceccarelli Frank Ortmeier',\n",
      "         'author': ['A Bondavalli', 'A Ceccarelli', 'F Ortmeier'],\n",
      "         'pub_year': '2014',\n",
      "         'title': '… , and Security: SAFECOMP 2014 Workshops: ASCoMS, DECSoS, '\n",
      "                  'DEVVARTS, ISSE, ReSA4CI, SASSUR. Florence, Italy, September '\n",
      "                  '8-9, 2014, Proceedings',\n",
      "         'venue': 'NA'},\n",
      " 'filled': False,\n",
      " 'gsrank': 1,\n",
      " 'num_citations': 0,\n",
      " 'pub_url': 'https://books.google.com/books?hl=en&lr=&id=3rheBAAAQBAJ&oi=fnd&pg=PR6&dq=SAFECOMP+2014+Workshops:+ASCoMS,+DECSoS,+DEVVARTS,+ISSE,+ReSA4CI,+SASSUR.+Florence,+Italy,+September+8-9,+2014,+Proceedings&ots=Z-CqcxxgLP&sig=-aeeZBtWNDfFhK2ojlKL7k49Vco',\n",
      " 'source': 'PUBLICATION_SEARCH_SNIPPET',\n",
      " 'url_add_sclib': '/citations?hl=en&xsrf=&continue=/scholar%3Fq%3DSAFECOMP%2B2014%2BWorkshops:%2BASCoMS,%2BDECSoS,%2BDEVVARTS,%2BISSE,%2BReSA4CI,%2BSASSUR.%2BFlorence,%2BItaly,%2BSeptember%2B8-9,%2B2014,%2BProceedings%26hl%3Den%26as_sdt%3D0,33&citilm=1&json=&update_op=library_add&info=BuDOzFROFKgJ&ei=VRPrYJ6nB_PJsQLyyaqIBA',\n",
      " 'url_scholarbib': '/scholar?q=info:BuDOzFROFKgJ:scholar.google.com/&output=cite&scirp=0&hl=en'}\n"
     ]
    }
   ],
   "source": [
    "def article_info(title) :\n",
    "    from scholarly import scholarly\n",
    "\n",
    "    search_query = scholarly.search_pubs('SAFECOMP 2014 Workshops: ASCoMS, DECSoS, DEVVARTS, ISSE, ReSA4CI, SASSUR. Florence, Italy, September 8-9, 2014, Proceedings')\n",
    "    # myjson = scholarly.pprint(next(search_query))\n",
    "    # res = next(search_query)\n",
    "    scholarly.pprint(next(search_query))"
   ]
  }
 ],
 "metadata": {
  "kernelspec": {
   "display_name": "Python 3",
   "language": "python",
   "name": "python3"
  },
  "language_info": {
   "codemirror_mode": {
    "name": "ipython",
    "version": 3
   },
   "file_extension": ".py",
   "mimetype": "text/x-python",
   "name": "python",
   "nbconvert_exporter": "python",
   "pygments_lexer": "ipython3",
   "version": "3.7.3"
  }
 },
 "nbformat": 4,
 "nbformat_minor": 2
}
