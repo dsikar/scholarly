{
 "cells": [
  {
   "cell_type": "markdown",
   "metadata": {},
   "source": [
    "# Scholarly\n",
    "Using Scholarly for literature search"
   ]
  },
  {
   "cell_type": "code",
   "execution_count": 3,
   "metadata": {},
   "outputs": [
    {
     "name": "stdout",
     "output_type": "stream",
     "text": [
      "{'container_type': 'Author', 'filled': {'basics', 'indices', 'coauthors', 'publications', 'counts'}, 'source': <AuthorSource.SEARCH_AUTHOR_SNIPPETS: 2>, 'scholar_id': '4bahYMkAAAAJ', 'url_picture': 'https://scholar.google.com/citations?view_op=medium_photo&user=4bahYMkAAAAJ', 'name': 'Steven A. Cholewiak, PhD', 'affiliation': 'Vision Scientist', 'email_domain': '@berkeley.edu', 'interests': ['Depth Cues', '3D Shape', 'Shape from Texture & Shading', 'Naive Physics', 'Haptics'], 'citedby': 333, 'citedby5y': 237, 'hindex': 9, 'hindex5y': 9, 'i10index': 9, 'i10index5y': 8, 'coauthors': [{'container_type': 'Author', 'filled': set(), 'scholar_id': 'ruUKktgAAAAJ', 'source': <AuthorSource.CO_AUTHORS_LIST: 3>, 'name': 'Roland Fleming', 'affiliation': 'Kurt Koffka Professor of Experimental Psychology, University of Giessen'}, {'container_type': 'Author', 'filled': set(), 'scholar_id': 'Smr99uEAAAAJ', 'source': <AuthorSource.CO_AUTHORS_LIST: 3>, 'name': 'Martin Banks', 'affiliation': 'Professor of Vision Science, UC Berkeley'}, {'container_type': 'Author', 'filled': set(), 'scholar_id': '3xJXtlwAAAAJ', 'source': <AuthorSource.CO_AUTHORS_LIST: 3>, 'name': 'Gordon D. Love', 'affiliation': 'Durham University, Computer Science & Physics'}, {'container_type': 'Author', 'filled': set(), 'scholar_id': 'OiVOAHMAAAAJ', 'source': <AuthorSource.CO_AUTHORS_LIST: 3>, 'name': 'Hong Z Tan', 'affiliation': 'Professor of ECE, Purdue University'}, {'container_type': 'Author', 'filled': set(), 'scholar_id': 'MnUboHYAAAAJ', 'source': <AuthorSource.CO_AUTHORS_LIST: 3>, 'name': 'Ari Weinstein', 'affiliation': 'Deepmind'}, {'container_type': 'Author', 'filled': set(), 'scholar_id': 'dqokykoAAAAJ', 'source': <AuthorSource.CO_AUTHORS_LIST: 3>, 'name': 'Chia-Chien Wu', 'affiliation': \"Brigham and Women's Hospital/Harvard Medical School\"}, {'container_type': 'Author', 'filled': set(), 'scholar_id': 'KoJrMIAAAAAJ', 'source': <AuthorSource.CO_AUTHORS_LIST: 3>, 'name': 'Jacob Feldman', 'affiliation': 'Professor of Psychology and Cognitive Science, Rutgers University'}, {'container_type': 'Author', 'filled': set(), 'scholar_id': 'aYyDsZ0AAAAJ', 'source': <AuthorSource.CO_AUTHORS_LIST: 3>, 'name': 'Pratul Srinivasan', 'affiliation': 'Research Scientist at Google Research'}, {'container_type': 'Author', 'filled': set(), 'scholar_id': 'FoVvIK0AAAAJ', 'source': <AuthorSource.CO_AUTHORS_LIST: 3>, 'name': 'Peter C. Pantelis', 'affiliation': 'Formerly: Indiana University, Rutgers University, University of Pennsylvania'}, {'container_type': 'Author', 'filled': set(), 'scholar_id': '6H0mhLUAAAAJ', 'source': <AuthorSource.CO_AUTHORS_LIST: 3>, 'name': 'Ren Ng', 'affiliation': 'Professor in Computer Science, University of California, Berkeley'}, {'container_type': 'Author', 'filled': set(), 'scholar_id': 'rNTIQXYAAAAJ', 'source': <AuthorSource.CO_AUTHORS_LIST: 3>, 'name': 'Steven W Zucker', 'affiliation': 'Yale University'}, {'container_type': 'Author', 'filled': set(), 'scholar_id': 'JPZWLKQAAAAJ', 'source': <AuthorSource.CO_AUTHORS_LIST: 3>, 'name': 'Ben Kunsberg', 'affiliation': 'Brown University'}, {'container_type': 'Author', 'filled': set(), 'scholar_id': '9XRvM88AAAAJ', 'source': <AuthorSource.CO_AUTHORS_LIST: 3>, 'name': 'Manish Singh', 'affiliation': 'Rutgers University, New Brunswick, NJ'}, {'container_type': 'Author', 'filled': set(), 'scholar_id': 'tD7OGTQAAAAJ', 'source': <AuthorSource.CO_AUTHORS_LIST: 3>, 'name': 'Vivek Labhishetty', 'affiliation': 'Clinical Director, Neurolens Inc.,'}, {'container_type': 'Author', 'filled': set(), 'scholar_id': 'rRJ9wTJMUB8C', 'source': <AuthorSource.CO_AUTHORS_LIST: 3>, 'name': 'Joshua B. Tenenbaum', 'affiliation': 'MIT'}, {'container_type': 'Author', 'filled': set(), 'scholar_id': 'bTdT7hAAAAAJ', 'source': <AuthorSource.CO_AUTHORS_LIST: 3>, 'name': 'Chris Baker', 'affiliation': 'Chief Scientist, isee AI'}, {'container_type': 'Author', 'filled': set(), 'scholar_id': 'KXQb7CAAAAAJ', 'source': <AuthorSource.CO_AUTHORS_LIST: 3>, 'name': 'Sung-Ho Kim', 'affiliation': 'Professor of Psychology, Ewha Womans University'}, {'container_type': 'Author', 'filled': set(), 'scholar_id': 'NN4GKo8AAAAJ', 'source': <AuthorSource.CO_AUTHORS_LIST: 3>, 'name': 'Melissa M. Kibbe', 'affiliation': 'Assistant Professor, Boston University'}, {'container_type': 'Author', 'filled': set(), 'scholar_id': 'nHx9IgYAAAAJ', 'source': <AuthorSource.CO_AUTHORS_LIST: 3>, 'name': 'Peter Shirley', 'affiliation': 'Nvidia Corporation'}, {'container_type': 'Author', 'filled': set(), 'scholar_id': 'r6MrFYoAAAAJ', 'source': <AuthorSource.CO_AUTHORS_LIST: 3>, 'name': 'Edwin D. Hirleman Jr.', 'affiliation': 'Professor and Dean, School of Engineering, University of California, Merced'}], 'publications': [{'container_type': 'Publication', 'source': <PublicationSource.AUTHOR_PUBLICATION_ENTRY: 2>, 'bib': {'title': 'A frequency-domain analysis of haptic gratings', 'pub_year': '2009'}, 'filled': False, 'author_pub_id': '4bahYMkAAAAJ:u5HHmVD_uO8C', 'num_citations': 55}, {'container_type': 'Publication', 'source': <PublicationSource.AUTHOR_PUBLICATION_ENTRY: 2>, 'bib': {'title': 'Haptic identification of stiffness and force magnitude', 'pub_year': '2008'}, 'filled': False, 'author_pub_id': '4bahYMkAAAAJ:u-x6o8ySG0sC', 'num_citations': 52}, {'container_type': 'Publication', 'source': <PublicationSource.AUTHOR_PUBLICATION_ENTRY: 2>, 'bib': {'title': 'ChromaBlur: Rendering chromatic eye aberration improves accommodation and realism', 'pub_year': '2017'}, 'filled': False, 'author_pub_id': '4bahYMkAAAAJ:LI9QrySNdTsC', 'num_citations': 33}, {'container_type': 'Publication', 'source': <PublicationSource.AUTHOR_PUBLICATION_ENTRY: 2>, 'bib': {'title': 'Inferring the intentional states of autonomous virtual agents', 'pub_year': '2014'}, 'filled': False, 'author_pub_id': '4bahYMkAAAAJ:roLk4NBRz8UC', 'num_citations': 30}, {'container_type': 'Publication', 'source': <PublicationSource.AUTHOR_PUBLICATION_ENTRY: 2>, 'bib': {'title': 'Visual perception of the physical stability of asymmetric three-dimensional objects', 'pub_year': '2013'}, 'filled': False, 'author_pub_id': '4bahYMkAAAAJ:ufrVoPGSRksC', 'num_citations': 30}, {'container_type': 'Publication', 'source': <PublicationSource.AUTHOR_PUBLICATION_ENTRY: 2>, 'bib': {'title': 'Perception of physical stability and center of mass of 3-D objects', 'pub_year': '2015'}, 'filled': False, 'author_pub_id': '4bahYMkAAAAJ:hMsQuOkrut0C', 'num_citations': 23}, {'container_type': 'Publication', 'source': <PublicationSource.AUTHOR_PUBLICATION_ENTRY: 2>, 'bib': {'title': 'Creating correct blur and its effect on accommodation', 'pub_year': '2018'}, 'filled': False, 'author_pub_id': '4bahYMkAAAAJ:kz9GbA2Ns4gC', 'num_citations': 22}, {'container_type': 'Publication', 'source': <PublicationSource.AUTHOR_PUBLICATION_ENTRY: 2>, 'bib': {'title': 'Discrimination of real and virtual surfaces with sinusoidal and triangular gratings using the fingertip and stylus', 'pub_year': '2012'}, 'filled': False, 'author_pub_id': '4bahYMkAAAAJ:eQOLeE2rZwMC', 'num_citations': 11}, {'container_type': 'Publication', 'source': <PublicationSource.AUTHOR_PUBLICATION_ENTRY: 2>, 'bib': {'title': 'Colour, contours, shading and shape: flow interactions reveal anchor neighbourhoods', 'pub_year': '2018'}, 'filled': False, 'author_pub_id': '4bahYMkAAAAJ:k8Z6L05lTy4C', 'num_citations': 10}, {'container_type': 'Publication', 'source': <PublicationSource.AUTHOR_PUBLICATION_ENTRY: 2>, 'bib': {'title': 'Agency and rationality: Adopting the intentional stance toward evolved virtual agents.', 'pub_year': '2016'}, 'filled': False, 'author_pub_id': '4bahYMkAAAAJ:TIZ-Mc8IlK0C', 'num_citations': 7}, {'container_type': 'Publication', 'source': <PublicationSource.AUTHOR_PUBLICATION_ENTRY: 2>, 'bib': {'title': 'Perception of intentions and mental states in autonomous virtual agents', 'pub_year': '2011'}, 'filled': False, 'author_pub_id': '4bahYMkAAAAJ:9yKSN-GCB0IC', 'num_citations': 7}, {'container_type': 'Publication', 'source': <PublicationSource.AUTHOR_PUBLICATION_ENTRY: 2>, 'bib': {'title': 'Varifocal virtuality: a novel optical layout for near-eye display', 'pub_year': '2017'}, 'filled': False, 'author_pub_id': '4bahYMkAAAAJ:MLfJN-KU85MC', 'num_citations': 6}, {'container_type': 'Publication', 'source': <PublicationSource.AUTHOR_PUBLICATION_ENTRY: 2>, 'bib': {'title': 'Intra-and intermanual curvature aftereffect can be obtained via tool-touch', 'pub_year': '2013'}, 'filled': False, 'author_pub_id': '4bahYMkAAAAJ:LkGwnXOMwfcC', 'num_citations': 6}, {'container_type': 'Publication', 'source': <PublicationSource.AUTHOR_PUBLICATION_ENTRY: 2>, 'bib': {'title': \"Contributions of foveal and non-foveal retina to the human eye's focusing response\", 'pub_year': '2019'}, 'filled': False, 'author_pub_id': '4bahYMkAAAAJ:i2xiXl-TujoC', 'num_citations': 5}, {'container_type': 'Publication', 'source': <PublicationSource.AUTHOR_PUBLICATION_ENTRY: 2>, 'bib': {'title': 'Distinguishing between texture and shading flows for 3D shape estimation', 'pub_year': '2015'}, 'filled': False, 'author_pub_id': '4bahYMkAAAAJ:KUbvn5osdkgC', 'num_citations': 5}, {'container_type': 'Publication', 'source': <PublicationSource.AUTHOR_PUBLICATION_ENTRY: 2>, 'bib': {'title': 'Predicting 3D shape perception from shading and texture flows', 'pub_year': '2014'}, 'filled': False, 'author_pub_id': '4bahYMkAAAAJ:EYYDruWGBe4C', 'num_citations': 5}, {'container_type': 'Publication', 'source': <PublicationSource.AUTHOR_PUBLICATION_ENTRY: 2>, 'bib': {'title': 'The perception of physical stability of 3d objects: The role of parts', 'pub_year': '2010'}, 'filled': False, 'author_pub_id': '4bahYMkAAAAJ:zYLM7Y9cAGgC', 'num_citations': 5}, {'container_type': 'Publication', 'source': <PublicationSource.AUTHOR_PUBLICATION_ENTRY: 2>, 'bib': {'title': 'Frequency analysis of the detectability of virtual haptic gratings', 'pub_year': '2007'}, 'filled': False, 'author_pub_id': '4bahYMkAAAAJ:d1gkVwhDpl0C', 'num_citations': 5}, {'container_type': 'Publication', 'source': <PublicationSource.AUTHOR_PUBLICATION_ENTRY: 2>, 'bib': {'title': 'Towards a unified explanation of shape from shading and texture', 'pub_year': '2013'}, 'filled': False, 'author_pub_id': '4bahYMkAAAAJ:_FxGoFyzp5QC', 'num_citations': 4}, {'container_type': 'Publication', 'source': <PublicationSource.AUTHOR_PUBLICATION_ENTRY: 2>, 'bib': {'title': 'ChromaBlur: Rendering Chromatic Eye Aberration Improves Accommodation and Realism in HMDs', 'pub_year': '2017'}, 'filled': False, 'author_pub_id': '4bahYMkAAAAJ:tuHXwOkdijsC', 'num_citations': 2}, {'container_type': 'Publication', 'source': <PublicationSource.AUTHOR_PUBLICATION_ENTRY: 2>, 'bib': {'title': 'A perceptual eyebox for near-eye displays', 'pub_year': '2020'}, 'filled': False, 'author_pub_id': '4bahYMkAAAAJ:HbR8gkJAVGIC', 'num_citations': 1}, {'container_type': 'Publication', 'source': <PublicationSource.AUTHOR_PUBLICATION_ENTRY: 2>, 'bib': {'title': 'Optimal Allocation of Quantized Human Eye Depth Perception for Light Field Display Design', 'pub_year': '2020'}, 'filled': False, 'author_pub_id': '4bahYMkAAAAJ:Dip1O2bNi0gC', 'num_citations': 1}, {'container_type': 'Publication', 'source': <PublicationSource.AUTHOR_PUBLICATION_ENTRY: 2>, 'bib': {'title': 'Lags and leads of accommodation are smaller than previously thought', 'pub_year': '2020'}, 'filled': False, 'author_pub_id': '4bahYMkAAAAJ:PoWvk5oyLR8C', 'num_citations': 1}, {'container_type': 'Publication', 'source': <PublicationSource.AUTHOR_PUBLICATION_ENTRY: 2>, 'bib': {'title': 'Pseudo light-field display apparatus', 'pub_year': '2019'}, 'filled': False, 'author_pub_id': '4bahYMkAAAAJ:-FonjvnnhkoC', 'num_citations': 1}, {'container_type': 'Publication', 'source': <PublicationSource.AUTHOR_PUBLICATION_ENTRY: 2>, 'bib': {'title': 'Rendering correct blur', 'pub_year': '2017'}, 'filled': False, 'author_pub_id': '4bahYMkAAAAJ:lmc2jWPfTJgC', 'num_citations': 1}, {'container_type': 'Publication', 'source': <PublicationSource.AUTHOR_PUBLICATION_ENTRY: 2>, 'bib': {'title': 'Appearance controls interpretation of orientation flows for 3D shape estimation', 'pub_year': '2015'}, 'filled': False, 'author_pub_id': '4bahYMkAAAAJ:g3aElNc5_aQC', 'num_citations': 1}, {'container_type': 'Publication', 'source': <PublicationSource.AUTHOR_PUBLICATION_ENTRY: 2>, 'bib': {'title': 'Limits on the estimation of shape from specular surfaces', 'pub_year': '2014'}, 'filled': False, 'author_pub_id': '4bahYMkAAAAJ:L7CI7m0gUJcC', 'num_citations': 1}, {'container_type': 'Publication', 'source': <PublicationSource.AUTHOR_PUBLICATION_ENTRY: 2>, 'bib': {'title': 'The tipping point: Visual estimation of the physical stability of three-dimensional objects', 'pub_year': '2013'}, 'filled': False, 'author_pub_id': '4bahYMkAAAAJ:WF5omc3nYNoC', 'num_citations': 1}, {'container_type': 'Publication', 'source': <PublicationSource.AUTHOR_PUBLICATION_ENTRY: 2>, 'bib': {'title': 'Perception of Physical Stability of Asymmetrical Three-Dimensional Objects', 'pub_year': '2011'}, 'filled': False, 'author_pub_id': '4bahYMkAAAAJ:YsMSGLbcyi4C', 'num_citations': 1}, {'container_type': 'Publication', 'source': <PublicationSource.AUTHOR_PUBLICATION_ENTRY: 2>, 'bib': {'title': 'Cutaneous perception', 'pub_year': '2010'}, 'filled': False, 'author_pub_id': '4bahYMkAAAAJ:AvfA0Oy_GE0C', 'num_citations': 1}, {'container_type': 'Publication', 'source': <PublicationSource.AUTHOR_PUBLICATION_ENTRY: 2>, 'bib': {'title': 'Lags and leads of accommodation: Fact or fiction?', 'pub_year': '2020'}, 'filled': False, 'author_pub_id': '4bahYMkAAAAJ:xtoqd-5pKcoC', 'num_citations': 0}, {'container_type': 'Publication', 'source': <PublicationSource.AUTHOR_PUBLICATION_ENTRY: 2>, 'bib': {'title': 'Creating correct aberrations: why blur isn’t always bad in the eye', 'pub_year': '2020'}, 'filled': False, 'author_pub_id': '4bahYMkAAAAJ:SpbeaW3--B0C', 'num_citations': 0}, {'container_type': 'Publication', 'source': <PublicationSource.AUTHOR_PUBLICATION_ENTRY: 2>, 'bib': {'title': 'Real-time blur with chromatic aberration drives accommodation and depth perception', 'pub_year': '2019'}, 'filled': False, 'author_pub_id': '4bahYMkAAAAJ:S16KYo8Pm5AC', 'num_citations': 0}, {'container_type': 'Publication', 'source': <PublicationSource.AUTHOR_PUBLICATION_ENTRY: 2>, 'bib': {'title': 'Peripheral stimulation can override foveal stimulation in driving accommodation', 'pub_year': '2019'}, 'filled': False, 'author_pub_id': '4bahYMkAAAAJ:e_rmSamDkqQC', 'num_citations': 0}, {'container_type': 'Publication', 'source': <PublicationSource.AUTHOR_PUBLICATION_ENTRY: 2>, 'bib': {'title': 'ChromaBlur: Rendering natural chromatic aberration drives accommodation effectively', 'pub_year': '2018'}, 'filled': False, 'author_pub_id': '4bahYMkAAAAJ:oNZyr7d5Mn4C', 'num_citations': 0}, {'container_type': 'Publication', 'source': <PublicationSource.AUTHOR_PUBLICATION_ENTRY: 2>, 'bib': {'title': 'Driving accommodation using simulated higher-order aberrations', 'pub_year': '2018'}, 'filled': False, 'author_pub_id': '4bahYMkAAAAJ:M7yex6snE4oC', 'num_citations': 0}, {'container_type': 'Publication', 'source': <PublicationSource.AUTHOR_PUBLICATION_ENTRY: 2>, 'bib': {'title': 'Modeling Accommodation Control of the Human Eye: Chromatic Aberration and Color Opponency', 'pub_year': '2017'}, 'filled': False, 'author_pub_id': '4bahYMkAAAAJ:b1wdh0AR-JQC', 'num_citations': 0}, {'container_type': 'Publication', 'source': <PublicationSource.AUTHOR_PUBLICATION_ENTRY: 2>, 'bib': {'title': 'The Dark Secrets of Dirty Concavities', 'pub_year': '2014'}, 'filled': False, 'author_pub_id': '4bahYMkAAAAJ:ILKRHgRFtOwC', 'num_citations': 0}, {'container_type': 'Publication', 'source': <PublicationSource.AUTHOR_PUBLICATION_ENTRY: 2>, 'bib': {'title': 'What happens to a shiny 3D object in a rotating environment?', 'pub_year': '2014'}, 'filled': False, 'author_pub_id': '4bahYMkAAAAJ:vbGhcppDl1QC', 'num_citations': 0}, {'container_type': 'Publication', 'source': <PublicationSource.AUTHOR_PUBLICATION_ENTRY: 2>, 'bib': {'title': 'Effects of varied spatial scale on perception of shape from shiny surfaces', 'pub_year': '2014'}, 'filled': False, 'author_pub_id': '4bahYMkAAAAJ:4MWp96NkSFoC', 'num_citations': 0}, {'container_type': 'Publication', 'source': <PublicationSource.AUTHOR_PUBLICATION_ENTRY: 2>, 'bib': {'title': 'Visually disentangling shading and surface pigmentation when the two are correlated', 'pub_year': '2014'}, 'filled': False, 'author_pub_id': '4bahYMkAAAAJ:ML0RJ9NH7IQC', 'num_citations': 0}, {'container_type': 'Publication', 'source': <PublicationSource.AUTHOR_PUBLICATION_ENTRY: 2>, 'bib': {'title': 'Perceptual regions of interest for 3D shape derived from shading and texture flows', 'pub_year': '2014'}, 'filled': False, 'author_pub_id': '4bahYMkAAAAJ:Z5m8FVwuT1cC', 'num_citations': 0}, {'container_type': 'Publication', 'source': <PublicationSource.AUTHOR_PUBLICATION_ENTRY: 2>, 'bib': {'title': 'Visual perception of the physical stability of asymmetric three', 'pub_year': '2013'}, 'filled': False, 'author_pub_id': '4bahYMkAAAAJ:kuK5TVdYjLIC', 'num_citations': 0}, {'container_type': 'Publication', 'source': <PublicationSource.AUTHOR_PUBLICATION_ENTRY: 2>, 'bib': {'title': 'Visual adaptation to physical stability of objects', 'pub_year': '2012'}, 'filled': False, 'author_pub_id': '4bahYMkAAAAJ:W7OEmFMy1HYC', 'num_citations': 0}, {'container_type': 'Publication', 'source': <PublicationSource.AUTHOR_PUBLICATION_ENTRY: 2>, 'bib': {'title': 'Curvature aftereffect and visual-haptic interactions in simulated environments', 'pub_year': '2011'}, 'filled': False, 'author_pub_id': '4bahYMkAAAAJ:2osOgNQ5qMEC', 'num_citations': 0}, {'container_type': 'Publication', 'source': <PublicationSource.AUTHOR_PUBLICATION_ENTRY: 2>, 'bib': {'title': 'On the edge: Perceived stability and center of mass of 3D objects', 'pub_year': '2011'}, 'filled': False, 'author_pub_id': '4bahYMkAAAAJ:Y0pCki6q_DkC', 'num_citations': 0}, {'container_type': 'Publication', 'source': <PublicationSource.AUTHOR_PUBLICATION_ENTRY: 2>, 'bib': {'title': 'Perceiving intelligent action: Experiments in the interpretation of intentional motion', 'pub_year': '2011'}, 'filled': False, 'author_pub_id': '4bahYMkAAAAJ:IjCSPb-OGe4C', 'num_citations': 0}, {'container_type': 'Publication', 'source': <PublicationSource.AUTHOR_PUBLICATION_ENTRY: 2>, 'bib': {'title': '2010 Index IEEE Transactions on Haptics Vol. 3', 'pub_year': '2010'}, 'filled': False, 'author_pub_id': '4bahYMkAAAAJ:WZBGuue-350C', 'num_citations': 0}, {'container_type': 'Publication', 'source': <PublicationSource.AUTHOR_PUBLICATION_ENTRY: 2>, 'bib': {'title': 'Living within a virtual environment populated by intelligent autonomous agents', 'pub_year': '2010'}, 'filled': False, 'author_pub_id': '4bahYMkAAAAJ:UeHWp8X0CEIC', 'num_citations': 0}, {'container_type': 'Publication', 'source': <PublicationSource.AUTHOR_PUBLICATION_ENTRY: 2>, 'bib': {'title': 'Pain: Physiological mechanisms', 'pub_year': '2010'}, 'filled': False, 'author_pub_id': '4bahYMkAAAAJ:BUYA1_V_uYcC', 'num_citations': 0}, {'container_type': 'Publication', 'source': <PublicationSource.AUTHOR_PUBLICATION_ENTRY: 2>, 'bib': {'title': 'Perceptual estimation of variance in orientation and its dependence on sample size', 'pub_year': '2009'}, 'filled': False, 'author_pub_id': '4bahYMkAAAAJ:BwyfMAYsbu0C', 'num_citations': 0}, {'container_type': 'Publication', 'source': <PublicationSource.AUTHOR_PUBLICATION_ENTRY: 2>, 'bib': {'title': 'Haptic stiffness identification and information transfer', 'pub_year': '2007'}, 'filled': False, 'author_pub_id': '4bahYMkAAAAJ:p__nRnzSRKYC', 'num_citations': 0}, {'container_type': 'Publication', 'source': <PublicationSource.AUTHOR_PUBLICATION_ENTRY: 2>, 'bib': {'title': 'This manuscript has been accepted for publication at Decision'}, 'filled': False, 'author_pub_id': '4bahYMkAAAAJ:tYavs44e6CUC', 'num_citations': 0}], 'cites_per_year': {2008: 2, 2009: 5, 2010: 7, 2011: 10, 2012: 21, 2013: 16, 2014: 17, 2015: 16, 2016: 38, 2017: 31, 2018: 31, 2019: 61, 2020: 66, 2021: 10}}\n"
     ]
    }
   ],
   "source": [
    "# Getting to grips with scholarly\n",
    "# Started at https://scholarly.readthedocs.io/en/stable/quickstart.html\n",
    "from scholarly import scholarly\n",
    "\n",
    "# Retrieve the author's data, fill-in, and print\n",
    "search_query = scholarly.search_author('Steven A Cholewiak')\n",
    "author = scholarly.fill(next(search_query))\n",
    "print(author)"
   ]
  },
  {
   "cell_type": "code",
   "execution_count": 14,
   "metadata": {},
   "outputs": [
    {
     "name": "stdout",
     "output_type": "stream",
     "text": [
      "Data: container_type, datatype: <class 'str'>\n",
      "Data: filled, datatype: <class 'str'>\n",
      "Data: source, datatype: <class 'str'>\n",
      "Data: scholar_id, datatype: <class 'str'>\n",
      "Data: url_picture, datatype: <class 'str'>\n",
      "Data: name, datatype: <class 'str'>\n",
      "Data: affiliation, datatype: <class 'str'>\n",
      "Data: email_domain, datatype: <class 'str'>\n",
      "Data: interests, datatype: <class 'str'>\n",
      "Data: citedby, datatype: <class 'str'>\n",
      "Data: citedby5y, datatype: <class 'str'>\n",
      "Data: hindex, datatype: <class 'str'>\n",
      "Data: hindex5y, datatype: <class 'str'>\n",
      "Data: i10index, datatype: <class 'str'>\n",
      "Data: i10index5y, datatype: <class 'str'>\n",
      "Data: coauthors, datatype: <class 'str'>\n",
      "Data: publications, datatype: <class 'str'>\n",
      "Data: cites_per_year, datatype: <class 'str'>\n"
     ]
    }
   ],
   "source": [
    "# print(type(author))\n",
    "for data in author:\n",
    "    print(\"Data: {}, datatype: {}\".format(data, type(data)))"
   ]
  },
  {
   "cell_type": "code",
   "execution_count": 18,
   "metadata": {},
   "outputs": [
    {
     "name": "stdout",
     "output_type": "stream",
     "text": [
      "Steven A. Cholewiak, PhD\n"
     ]
    }
   ],
   "source": [
    "print(author['name'])"
   ]
  },
  {
   "cell_type": "code",
   "execution_count": 20,
   "metadata": {},
   "outputs": [
    {
     "name": "stdout",
     "output_type": "stream",
     "text": [
      "{'author_id': ['3C__4wsAAAAJ',\n",
      "               '8R0hla4AAAAJ',\n",
      "               'ZmlCcesAAAAJ',\n",
      "               '',\n",
      "               'Rx5swD4AAAAJ'],\n",
      " 'bib': {'abstract': 'To address the sparsity and cold start problem of '\n",
      "                     'collaborative filtering, researchers usually make use of '\n",
      "                     'side information, such as social networks or item '\n",
      "                     'attributes, to improve recommendation performance. This '\n",
      "                     'paper considers the knowledge graph as the source of '\n",
      "                     'side information. To address the limitations of existing '\n",
      "                     'embedding-based and path-based methods for '\n",
      "                     'knowledge-graph-aware recommendation, we propose '\n",
      "                     'RippleNet, an end-to-end framework that naturally '\n",
      "                     'incorporates the knowledge graph into recommender '\n",
      "                     'systems',\n",
      "         'author': ['H Wang', 'F Zhang', 'J Wang', 'M Zhao', 'W Li'],\n",
      "         'pub_year': '2018',\n",
      "         'title': 'Ripplenet: Propagating user preferences on the knowledge '\n",
      "                  'graph for recommender systems',\n",
      "         'venue': 'Proceedings of the 27th …'},\n",
      " 'citedby_url': '/scholar?cites=7771159719135241374&as_sdt=5,33&sciodt=0,33&hl=en',\n",
      " 'eprint_url': 'https://arxiv.org/pdf/1803.03467',\n",
      " 'filled': False,\n",
      " 'gsrank': 1,\n",
      " 'num_citations': 198,\n",
      " 'pub_url': 'https://dl.acm.org/doi/abs/10.1145/3269206.3271739',\n",
      " 'source': 'PUBLICATION_SEARCH_SNIPPET',\n",
      " 'url_add_sclib': '/citations?hl=en&xsrf=&continue=/scholar%3Fq%3DRipplenet:%2BPropagating%2Buser%2Bpreferences%2Bon%2Bthe%2Bknowledge%2Bgraph%2Bfor%2Brecommender%2Bsystems%26hl%3Den%26as_sdt%3D0,33&citilm=1&json=&update_op=library_add&info=nmThV5e02GsJ&ei=a25YYN2HMZD_mAGb8ojQBg',\n",
      " 'url_related_articles': '/scholar?q=related:nmThV5e02GsJ:scholar.google.com/&scioq=Ripplenet:+Propagating+user+preferences+on+the+knowledge+graph+for+recommender+systems&hl=en&as_sdt=0,33',\n",
      " 'url_scholarbib': '/scholar?q=info:nmThV5e02GsJ:scholar.google.com/&output=cite&scirp=0&hl=en'}\n",
      "None\n"
     ]
    }
   ],
   "source": [
    "# Search by article title\n",
    "# Ripplenet: Propagating user preferences on the knowledge graph for recommender systems\n",
    "# https://scholarly.readthedocs.io/en/stable/quickstart.html#search-for-articles-publications-and-return-generator-of-publication-objects\n",
    "search_query = scholarly.search_pubs('Ripplenet: Propagating user preferences on the knowledge graph for recommender systems')\n",
    "results = scholarly.pprint(next(search_query))\n",
    "print(results)"
   ]
  },
  {
   "cell_type": "code",
   "execution_count": 23,
   "metadata": {
    "collapsed": true
   },
   "outputs": [
    {
     "name": "stdout",
     "output_type": "stream",
     "text": [
      "Requirement already satisfied: semanticscholar in /home/daniel/snap/jupyter/common/lib/python3.7/site-packages (0.1.6)\n",
      "Requirement already satisfied: requests in /home/daniel/snap/jupyter/common/lib/python3.7/site-packages (from semanticscholar) (2.25.1)\n",
      "Requirement already satisfied: tenacity in /home/daniel/snap/jupyter/common/lib/python3.7/site-packages (from semanticscholar) (7.0.0)\n",
      "Requirement already satisfied: certifi>=2017.4.17 in /snap/jupyter/6/lib/python3.7/site-packages (from requests->semanticscholar) (2019.3.9)\n",
      "Requirement already satisfied: idna<3,>=2.5 in /home/daniel/snap/jupyter/common/lib/python3.7/site-packages (from requests->semanticscholar) (2.10)\n",
      "Requirement already satisfied: chardet<5,>=3.0.2 in /home/daniel/snap/jupyter/common/lib/python3.7/site-packages (from requests->semanticscholar) (4.0.0)\n",
      "Requirement already satisfied: urllib3<1.27,>=1.21.1 in /home/daniel/snap/jupyter/common/lib/python3.7/site-packages (from requests->semanticscholar) (1.26.3)\n",
      "Requirement already satisfied: six>=1.9.0 in /home/daniel/snap/jupyter/common/lib/python3.7/site-packages (from tenacity->semanticscholar) (1.15.0)\n"
     ]
    }
   ],
   "source": [
    "# Another approach\n",
    "# https://api.semanticscholar.org/\n",
    "!pip install semanticscholar"
   ]
  },
  {
   "cell_type": "code",
   "execution_count": 25,
   "metadata": {},
   "outputs": [],
   "source": [
    "import semanticscholar as sch\n",
    "author = sch.author(49527724, timeout=2) # semantic scholar 3C__4wsAAAAJ equivalent "
   ]
  },
  {
   "cell_type": "code",
   "execution_count": 29,
   "metadata": {},
   "outputs": [
    {
     "name": "stdout",
     "output_type": "stream",
     "text": [
      "Key: aliases, datatype: <class 'str'>\n",
      "Key: authorId, datatype: <class 'str'>\n",
      "Key: influentialCitationCount, datatype: <class 'str'>\n",
      "Key: name, datatype: <class 'str'>\n",
      "Key: papers, datatype: <class 'str'>\n",
      "Key: url, datatype: <class 'str'>\n"
     ]
    }
   ],
   "source": [
    "for key in author:\n",
    "    print(\"Key: {}, datatype: {}\".format(key, type(key)))"
   ]
  },
  {
   "cell_type": "code",
   "execution_count": 34,
   "metadata": {},
   "outputs": [
    {
     "name": "stdout",
     "output_type": "stream",
     "text": [
      "2018 GraphGAN: Graph Representation Learning with Generative Adversarial Nets\n",
      "2018 DKN: Deep Knowledge-Aware Network for News Recommendation\n",
      "2018 RippleNet: Propagating User Preferences on the Knowledge Graph for Recommender Systems\n",
      "2019 Knowledge Graph Convolutional Networks for Recommender Systems\n",
      "2018 SHINE: Signed Heterogeneous Information Network Embedding for Sentiment Link Prediction\n",
      "2019 Multi-Task Feature Learning for Knowledge Graph Enhanced Recommendation\n",
      "2019 AdaShift: Decorrelation and Convergence of Adaptive Learning Rate Methods\n",
      "2019 Lipschitz Generative Adversarial Nets\n",
      "2020 Entity Context and Relational Paths for Knowledge Graph Completion\n",
      "2016 Towards Scalable and Reliable In-Memory Storage System: A Case Study with Redis\n",
      "2017 MELODY: A Long-Term Dynamic Quality-Aware Incentive Mechanism for Crowdsourcing\n",
      "2019 Knowledge Graph Convolutional Networks for Recommender Systems with Label Smoothness Regularization\n",
      "2020 Learning Graph Representation with Generative Adversarial Nets\n",
      "2018 Deep Representation-Decoupling Neural Networks for Monaural Music Mixture Separation\n",
      "2019 Exploring High-Order User Preference on the Knowledge Graph for Recommender Systems\n",
      "2017 Joint Topic-Semantic-aware Social Recommendation for Online Voting\n",
      "2019 Modeling Local Dependence in Natural Language with Multi-channel Recurrent Neural Networks\n",
      "2020 Unifying Graph Convolutional Neural Networks and Label Propagation\n",
      "2018 Understanding the Effectiveness of Lipschitz-Continuity in Generative Adversarial Nets\n",
      "2019 Sparsely Self-Supervised Generative Adversarial Nets for Radio Frequency Estimation\n",
      "2017 Collaborative Filtering-Based Recommendation of Online Social Voting\n",
      "2020 Visual-Texual Emotion Analysis With Deep Coupled Video and Danmu Neural Networks\n",
      "2018 MeLoDy: A Long-Term Dynamic Quality-Aware Incentive Mechanism for Crowdsourcing\n",
      "2020 Distance Encoding – Design Provably More Powerful GNNs for Structural Representation Learning\n",
      "2018 Weakly-Supervised Generative Adversarial Nets with Auxiliary Information for Wireless Coverage Estimation\n",
      "2017 Practical Lessons for Job Recommendations in the Cold-Start Scenario\n"
     ]
    }
   ],
   "source": [
    "# print papers\n",
    "# print(type(author['papers']))\n",
    "for data in author['papers']:\n",
    "    # print(\"Data: {}, datatype: {}\".format(data, type(data)))\n",
    "    print(data['year'], data['title'])"
   ]
  },
  {
   "cell_type": "code",
   "execution_count": 37,
   "metadata": {},
   "outputs": [
    {
     "data": {
      "text/plain": [
       "26"
      ]
     },
     "execution_count": 37,
     "metadata": {},
     "output_type": "execute_result"
    }
   ],
   "source": [
    "print(len(author['papers']))"
   ]
  }
 ],
 "metadata": {
  "kernelspec": {
   "display_name": "Python 3",
   "language": "python",
   "name": "python3"
  },
  "language_info": {
   "codemirror_mode": {
    "name": "ipython",
    "version": 3
   },
   "file_extension": ".py",
   "mimetype": "text/x-python",
   "name": "python",
   "nbconvert_exporter": "python",
   "pygments_lexer": "ipython3",
   "version": "3.7.3"
  }
 },
 "nbformat": 4,
 "nbformat_minor": 2
}
